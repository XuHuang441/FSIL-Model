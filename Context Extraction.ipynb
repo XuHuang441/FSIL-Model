{
 "cells": [
  {
   "cell_type": "markdown",
   "id": "fab771a1-ba52-4e55-b45f-b521c00e9b91",
   "metadata": {},
   "source": [
    "# Extract the paragraph where the labeled data is located from the html as a context"
   ]
  },
  {
   "cell_type": "code",
   "execution_count": null,
   "id": "a7690157-8ed9-4ed2-a69a-505059575655",
   "metadata": {},
   "outputs": [],
   "source": [
    "print(data[1]['annotations'][0]['result'][0]['value'])"
   ]
  },
  {
   "cell_type": "code",
   "execution_count": null,
   "id": "ef279d47-0e55-4a9e-b12b-0c0a70e816ce",
   "metadata": {},
   "outputs": [],
   "source": [
    "from bs4 import BeautifulSoup\n",
    "import json\n",
    "\n",
    "with open('covenants.json', 'r') as file:\n",
    "    data = json.load(file)  \n",
    "\n",
    "html_content = data[1][\"data\"]['html']\n",
    "\n",
    "\n",
    "soup = BeautifulSoup(html_content, 'html.parser')\n",
    "\n",
    "item = data[1]['annotations'][0]['result'][0]\n",
    "\n",
    "start_path = item['value']['start']\n",
    "end_path = item['value']['end']\n",
    "\n",
    "print(start_path)\n",
    "\n",
    "document = soup.find_all('document')[0]\n",
    "text = document.find_all('text')[0]\n",
    "p = text.find_all('p')[382]\n",
    "print(p)\n",
    "# font = p.find_all('font')[0]\n",
    "# print(font)\n"
   ]
  }
 ],
 "metadata": {
  "kernelspec": {
   "display_name": "Python 3 (ipykernel)",
   "language": "python",
   "name": "python3"
  },
  "language_info": {
   "codemirror_mode": {
    "name": "ipython",
    "version": 3
   },
   "file_extension": ".py",
   "mimetype": "text/x-python",
   "name": "python",
   "nbconvert_exporter": "python",
   "pygments_lexer": "ipython3",
   "version": "3.11.9"
  }
 },
 "nbformat": 4,
 "nbformat_minor": 5
}

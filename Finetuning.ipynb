{
 "cells": [
  {
   "cell_type": "markdown",
   "id": "5427caa9-718e-45f9-a589-fed521228e1b",
   "metadata": {},
   "source": [
    "## Split the dataset into train, test and validation set"
   ]
  },
  {
   "cell_type": "code",
   "execution_count": 5,
   "id": "c57712c0-b713-48cf-a365-dcd35f7f60df",
   "metadata": {},
   "outputs": [],
   "source": [
    "import random\n",
    "\n",
    "def read_iob_data(file_path):\n",
    "    with open(file_path, 'r', encoding='utf-8') as file:\n",
    "        data = file.read().strip().split('\\n\\n')\n",
    "        data = [sentence.split('\\n') for sentence in data]\n",
    "    return data\n",
    "\n",
    "def write_iob_data(file_path, data):\n",
    "    with open(file_path, 'w', encoding='utf-8') as file:\n",
    "        for sentence in data:\n",
    "            for line in sentence:\n",
    "                file.write(line + '\\n')\n",
    "            file.write('\\n')\n",
    "\n",
    "def split_data(data, train_ratio=0.8, test_ratio=0.1, val_ratio=0.1):\n",
    "    random.shuffle(data)\n",
    "    total_size = len(data)\n",
    "    train_size = int(total_size * train_ratio)\n",
    "    test_size = int(total_size * test_ratio)\n",
    "    val_size = total_size - train_size - test_size\n",
    "    \n",
    "    train_data = data[:train_size]\n",
    "    test_data = data[train_size:train_size + test_size]\n",
    "    val_data = data[train_size + test_size:]\n",
    "    \n",
    "    return train_data, test_data, val_data\n",
    "\n",
    "# read\n",
    "data = read_iob_data('output.txt')\n",
    "\n",
    "# print(data)\n",
    "\n",
    "# split\n",
    "train_data, test_data, val_data = split_data(data)\n",
    "\n",
    "# save\n",
    "write_iob_data('train_iob_data.txt', train_data)\n",
    "write_iob_data('test_iob_data.txt', test_data)\n",
    "write_iob_data('val_iob_data.txt', val_data)\n"
   ]
  },
  {
   "cell_type": "markdown",
   "id": "c9f3515d-77df-480f-b871-e52be46fc6ab",
   "metadata": {},
   "source": [
    "## Finetuning on a local dataset"
   ]
  },
  {
   "cell_type": "code",
   "execution_count": 1,
   "id": "49591c37-d814-42c8-99c2-3caea0980ac1",
   "metadata": {},
   "outputs": [],
   "source": [
    "local_dataset = {\"train\": \"train_iob_data.txt\", \"validation\": \"test_iob_data.txt\", \"test\": \"val_iob_data.txt\"}"
   ]
  },
  {
   "cell_type": "code",
   "execution_count": 3,
   "id": "08d7d590-7090-4117-9893-6623956a4dba",
   "metadata": {},
   "outputs": [
    {
     "ename": "ModuleNotFoundError",
     "evalue": "No module named 'tner'",
     "output_type": "error",
     "traceback": [
      "\u001b[0;31m---------------------------------------------------------------------------\u001b[0m",
      "\u001b[0;31mModuleNotFoundError\u001b[0m                       Traceback (most recent call last)",
      "Cell \u001b[0;32mIn[3], line 1\u001b[0m\n\u001b[0;32m----> 1\u001b[0m \u001b[38;5;28;01mfrom\u001b[39;00m \u001b[38;5;21;01mtner\u001b[39;00m \u001b[38;5;28;01mimport\u001b[39;00m GridSearcher, TransformersNER\n\u001b[1;32m      3\u001b[0m searcher \u001b[38;5;241m=\u001b[39m GridSearcher(\n\u001b[1;32m      4\u001b[0m    checkpoint_dir\u001b[38;5;241m=\u001b[39m\u001b[38;5;124m'\u001b[39m\u001b[38;5;124m./ckpt_bert_custom_dataset\u001b[39m\u001b[38;5;124m'\u001b[39m,\n\u001b[1;32m      5\u001b[0m    local_dataset\u001b[38;5;241m=\u001b[39mlocal_dataset,\n\u001b[0;32m   (...)\u001b[0m\n\u001b[1;32m     17\u001b[0m    max_grad_norm\u001b[38;5;241m=\u001b[39m[\u001b[38;5;28;01mNone\u001b[39;00m, \u001b[38;5;241m10\u001b[39m]\n\u001b[1;32m     18\u001b[0m )\n\u001b[1;32m     19\u001b[0m searcher\u001b[38;5;241m.\u001b[39mtrain()\n",
      "\u001b[0;31mModuleNotFoundError\u001b[0m: No module named 'tner'"
     ]
    }
   ],
   "source": [
    "from tner import GridSearcher, TransformersNER\n",
    "\n",
    "searcher = GridSearcher(\n",
    "   checkpoint_dir='./ckpt_bert_custom_dataset',\n",
    "   local_dataset=local_dataset,\n",
    "   model=\"distilbert-base-cased\",  # language model to fine-tune\n",
    "   epoch=2,  # the total epoch (`L` in the figure)\n",
    "   epoch_partial=1,  # the number of epoch at 1st stage (`M` in the figure)\n",
    "   n_max_config=1,  # the number of models to pass to 2nd stage (`K` in the figure)\n",
    "   batch_size=4,\n",
    "   gradient_accumulation_steps=[1],\n",
    "   crf=[True],\n",
    "   lr=[1e-4],\n",
    "   weight_decay=[None],\n",
    "   random_seed=[42],\n",
    "   lr_warmup_step_ratio=[0.1],\n",
    "   max_grad_norm=[None, 10]\n",
    ")\n",
    "searcher.train()"
   ]
  },
  {
   "cell_type": "code",
   "execution_count": null,
   "id": "0caa3b5b-af0a-45fc-abe1-1bafb8b5b060",
   "metadata": {},
   "outputs": [],
   "source": [
    "model = TransformersNER(\"ckpt_bert_custom_dataset/best_model\")\n",
    "metric = model.evaluate(local_dataset=local_dataset, dataset_split='test', batch_size=16)"
   ]
  },
  {
   "cell_type": "code",
   "execution_count": null,
   "id": "2d49df2c-63de-4402-b336-b6752ae4b45a",
   "metadata": {},
   "outputs": [],
   "source": []
  }
 ],
 "metadata": {
  "kernelspec": {
   "display_name": "Python 3 (ipykernel)",
   "language": "python",
   "name": "python3"
  },
  "language_info": {
   "codemirror_mode": {
    "name": "ipython",
    "version": 3
   },
   "file_extension": ".py",
   "mimetype": "text/x-python",
   "name": "python",
   "nbconvert_exporter": "python",
   "pygments_lexer": "ipython3",
   "version": "3.11.9"
  }
 },
 "nbformat": 4,
 "nbformat_minor": 5
}

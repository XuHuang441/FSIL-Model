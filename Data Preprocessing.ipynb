{
 "cells": [
  {
   "cell_type": "code",
   "execution_count": 11,
   "id": "53bb2a1c-f64d-4dbb-a8da-96cf2715c658",
   "metadata": {},
   "outputs": [
    {
     "name": "stdout",
     "output_type": "stream",
     "text": [
      "Processed string has been written to output.txt\n"
     ]
    }
   ],
   "source": [
    "import json\n",
    "\n",
    "# read json\n",
    "with open('covenants.json', 'r') as file:\n",
    "    data = json.load(file)  \n",
    "\n",
    "strings = []\n",
    "\n",
    "for document in data:\n",
    "    for result in document['annotations'][0]['result']:\n",
    "        try:\n",
    "            string = result['value']['text']\n",
    "            label = result['value']['hypertextlabels'][0]\n",
    "            label = ''.join(label.split())\n",
    "            words = string.split()\n",
    "            processed_words = []\n",
    "            for i, word in enumerate(words):\n",
    "                if i == 0:\n",
    "                    processed_words.append(f\"{word} B-{label}\")\n",
    "                else:\n",
    "                    processed_words.append(f\"{word} I-{label}\")\n",
    "    \n",
    "            processed = \"\\n\".join(processed_words)\n",
    "            strings.append(processed)\n",
    "\n",
    "        except KeyError:\n",
    "            pass\n",
    "            \n",
    "output = \"\\n\\n\".join(strings)\n",
    "\n",
    "output_file_path = 'output.txt'\n",
    "\n",
    "with open(output_file_path, 'w') as file:\n",
    "    file.write(output)\n",
    "\n",
    "print(f\"Processed string has been written to {output_file_path}\")"
   ]
  },
  {
   "cell_type": "code",
   "execution_count": null,
   "id": "83e00a58-f084-4d24-b0b8-8e683347608c",
   "metadata": {},
   "outputs": [],
   "source": []
  }
 ],
 "metadata": {
  "kernelspec": {
   "display_name": "Python 3 (ipykernel)",
   "language": "python",
   "name": "python3"
  },
  "language_info": {
   "codemirror_mode": {
    "name": "ipython",
    "version": 3
   },
   "file_extension": ".py",
   "mimetype": "text/x-python",
   "name": "python",
   "nbconvert_exporter": "python",
   "pygments_lexer": "ipython3",
   "version": "3.11.9"
  }
 },
 "nbformat": 4,
 "nbformat_minor": 5
}
